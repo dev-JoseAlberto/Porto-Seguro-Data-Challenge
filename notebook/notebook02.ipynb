{
 "cells": [
  {
   "cell_type": "markdown",
   "metadata": {},
   "source": [
    "In this notebook, used of machine learning classifiers Logistic Regression, Support Vector Machine and Random Forest "
   ]
  },
  {
   "cell_type": "code",
   "execution_count": 33,
   "metadata": {},
   "outputs": [],
   "source": [
    "import pandas as pd\n",
    "import numpy as np\n",
    "import seaborn as sns\n",
    "import matplotlib.pyplot as plt\n",
    "from matplotlib.gridspec import GridSpec\n",
    "%matplotlib inline\n",
    "\n",
    "from sklearn.preprocessing import StandardScaler\n",
    "from sklearn.model_selection import train_test_split\n",
    "from sklearn.feature_selection import mutual_info_classif\n",
    "from imblearn.over_sampling import SMOTE \n",
    "from sklearn.linear_model import LogisticRegression\n",
    "from sklearn.model_selection import StratifiedKFold\n",
    "from sklearn.linear_model import LogisticRegressionCV\n",
    "from sklearn.metrics import confusion_matrix, roc_curve\n",
    "from sklearn.metrics import classification_report, roc_auc_score\n",
    "\n",
    "from sklearn import svm\n",
    "from sklearn.linear_model import LogisticRegression\n",
    "from sklearn.ensemble import RandomForestClassifier\n",
    "from sklearn.calibration import CalibratedClassifierCV, CalibrationDisplay, calibration_curve"
   ]
  },
  {
   "cell_type": "code",
   "execution_count": 34,
   "metadata": {},
   "outputs": [
    {
     "data": {
      "text/html": [
       "<div>\n",
       "<style scoped>\n",
       "    .dataframe tbody tr th:only-of-type {\n",
       "        vertical-align: middle;\n",
       "    }\n",
       "\n",
       "    .dataframe tbody tr th {\n",
       "        vertical-align: top;\n",
       "    }\n",
       "\n",
       "    .dataframe thead th {\n",
       "        text-align: right;\n",
       "    }\n",
       "</style>\n",
       "<table border=\"1\" class=\"dataframe\">\n",
       "  <thead>\n",
       "    <tr style=\"text-align: right;\">\n",
       "      <th></th>\n",
       "      <th>id</th>\n",
       "      <th>var1</th>\n",
       "      <th>var2</th>\n",
       "      <th>var3</th>\n",
       "      <th>var4</th>\n",
       "      <th>var5</th>\n",
       "      <th>var6</th>\n",
       "      <th>var7</th>\n",
       "      <th>var8</th>\n",
       "      <th>var9</th>\n",
       "      <th>...</th>\n",
       "      <th>var60</th>\n",
       "      <th>var61</th>\n",
       "      <th>var62</th>\n",
       "      <th>var63</th>\n",
       "      <th>var64</th>\n",
       "      <th>var65</th>\n",
       "      <th>var66</th>\n",
       "      <th>var67</th>\n",
       "      <th>var68</th>\n",
       "      <th>y</th>\n",
       "    </tr>\n",
       "  </thead>\n",
       "  <tbody>\n",
       "    <tr>\n",
       "      <th>0</th>\n",
       "      <td>1</td>\n",
       "      <td>18</td>\n",
       "      <td>19</td>\n",
       "      <td>2853</td>\n",
       "      <td>29442</td>\n",
       "      <td>1386</td>\n",
       "      <td>2435</td>\n",
       "      <td>35</td>\n",
       "      <td>-999</td>\n",
       "      <td>3</td>\n",
       "      <td>...</td>\n",
       "      <td>0.311441</td>\n",
       "      <td>0.142303</td>\n",
       "      <td>0.056146</td>\n",
       "      <td>0.632694</td>\n",
       "      <td>0.024054</td>\n",
       "      <td>0.253356</td>\n",
       "      <td>0.00603</td>\n",
       "      <td>0.132353</td>\n",
       "      <td>0.139706</td>\n",
       "      <td>1</td>\n",
       "    </tr>\n",
       "    <tr>\n",
       "      <th>1</th>\n",
       "      <td>8</td>\n",
       "      <td>4</td>\n",
       "      <td>110</td>\n",
       "      <td>1986</td>\n",
       "      <td>13684</td>\n",
       "      <td>7189</td>\n",
       "      <td>-999</td>\n",
       "      <td>-999</td>\n",
       "      <td>17</td>\n",
       "      <td>3</td>\n",
       "      <td>...</td>\n",
       "      <td>-999.000000</td>\n",
       "      <td>-999.000000</td>\n",
       "      <td>0.070991</td>\n",
       "      <td>0.773966</td>\n",
       "      <td>0.019315</td>\n",
       "      <td>-999.000000</td>\n",
       "      <td>-999.00000</td>\n",
       "      <td>0.147059</td>\n",
       "      <td>0.106618</td>\n",
       "      <td>0</td>\n",
       "    </tr>\n",
       "    <tr>\n",
       "      <th>2</th>\n",
       "      <td>30</td>\n",
       "      <td>0</td>\n",
       "      <td>39</td>\n",
       "      <td>1019</td>\n",
       "      <td>10232</td>\n",
       "      <td>678</td>\n",
       "      <td>791</td>\n",
       "      <td>16</td>\n",
       "      <td>-999</td>\n",
       "      <td>3</td>\n",
       "      <td>...</td>\n",
       "      <td>-999.000000</td>\n",
       "      <td>0.200814</td>\n",
       "      <td>0.051046</td>\n",
       "      <td>0.980827</td>\n",
       "      <td>0.018536</td>\n",
       "      <td>-999.000000</td>\n",
       "      <td>-999.00000</td>\n",
       "      <td>0.382353</td>\n",
       "      <td>0.242647</td>\n",
       "      <td>0</td>\n",
       "    </tr>\n",
       "    <tr>\n",
       "      <th>3</th>\n",
       "      <td>43</td>\n",
       "      <td>20</td>\n",
       "      <td>39</td>\n",
       "      <td>1751</td>\n",
       "      <td>2689</td>\n",
       "      <td>8235</td>\n",
       "      <td>1042</td>\n",
       "      <td>13</td>\n",
       "      <td>10</td>\n",
       "      <td>1</td>\n",
       "      <td>...</td>\n",
       "      <td>-999.000000</td>\n",
       "      <td>0.352379</td>\n",
       "      <td>0.044301</td>\n",
       "      <td>0.951564</td>\n",
       "      <td>0.023684</td>\n",
       "      <td>0.363370</td>\n",
       "      <td>0.00201</td>\n",
       "      <td>0.147059</td>\n",
       "      <td>0.132353</td>\n",
       "      <td>0</td>\n",
       "    </tr>\n",
       "    <tr>\n",
       "      <th>4</th>\n",
       "      <td>46</td>\n",
       "      <td>7</td>\n",
       "      <td>44</td>\n",
       "      <td>2262</td>\n",
       "      <td>29428</td>\n",
       "      <td>6031</td>\n",
       "      <td>304</td>\n",
       "      <td>16</td>\n",
       "      <td>-999</td>\n",
       "      <td>3</td>\n",
       "      <td>...</td>\n",
       "      <td>0.021226</td>\n",
       "      <td>0.226161</td>\n",
       "      <td>0.059125</td>\n",
       "      <td>0.906155</td>\n",
       "      <td>0.020733</td>\n",
       "      <td>-999.000000</td>\n",
       "      <td>-999.00000</td>\n",
       "      <td>0.455882</td>\n",
       "      <td>0.132353</td>\n",
       "      <td>1</td>\n",
       "    </tr>\n",
       "  </tbody>\n",
       "</table>\n",
       "<p>5 rows × 70 columns</p>\n",
       "</div>"
      ],
      "text/plain": [
       "   id  var1  var2  var3   var4  var5  var6  var7  var8  var9  ...       var60  \\\n",
       "0   1    18    19  2853  29442  1386  2435    35  -999     3  ...    0.311441   \n",
       "1   8     4   110  1986  13684  7189  -999  -999    17     3  ... -999.000000   \n",
       "2  30     0    39  1019  10232   678   791    16  -999     3  ... -999.000000   \n",
       "3  43    20    39  1751   2689  8235  1042    13    10     1  ... -999.000000   \n",
       "4  46     7    44  2262  29428  6031   304    16  -999     3  ...    0.021226   \n",
       "\n",
       "        var61     var62     var63     var64       var65      var66     var67  \\\n",
       "0    0.142303  0.056146  0.632694  0.024054    0.253356    0.00603  0.132353   \n",
       "1 -999.000000  0.070991  0.773966  0.019315 -999.000000 -999.00000  0.147059   \n",
       "2    0.200814  0.051046  0.980827  0.018536 -999.000000 -999.00000  0.382353   \n",
       "3    0.352379  0.044301  0.951564  0.023684    0.363370    0.00201  0.147059   \n",
       "4    0.226161  0.059125  0.906155  0.020733 -999.000000 -999.00000  0.455882   \n",
       "\n",
       "      var68  y  \n",
       "0  0.139706  1  \n",
       "1  0.106618  0  \n",
       "2  0.242647  0  \n",
       "3  0.132353  0  \n",
       "4  0.132353  1  \n",
       "\n",
       "[5 rows x 70 columns]"
      ]
     },
     "execution_count": 34,
     "metadata": {},
     "output_type": "execute_result"
    }
   ],
   "source": [
    "dataset = pd.read_csv('../data/train.csv')\n",
    "dataset.head()"
   ]
  },
  {
   "cell_type": "code",
   "execution_count": 35,
   "metadata": {},
   "outputs": [],
   "source": [
    "Xvar_discrete = dataset[['var24', 'var25', 'var27','var40', \n",
    "                         'var44','var45','var46','var47',\n",
    "                         'var48','var49','var50','var51', \n",
    "                         'var52','var53','var54']]\n",
    "\n",
    "yvar_discrete = dataset['y']"
   ]
  },
  {
   "cell_type": "markdown",
   "metadata": {},
   "source": [
    "Estimate mutual information for a discrete target variable"
   ]
  },
  {
   "cell_type": "code",
   "execution_count": 36,
   "metadata": {},
   "outputs": [
    {
     "name": "stdout",
     "output_type": "stream",
     "text": [
      "Mutual Info Classif:\n",
      " [1.14474221e-02 4.93772243e-03 2.93351414e-03 2.10632625e-03\n",
      " 3.47359363e-07 6.99501909e-04 5.35415306e-04 1.90301272e-04\n",
      " 4.19367421e-04 7.24623227e-05 4.82053012e-03 6.28579058e-04\n",
      " 1.13615286e-02 1.16886181e-02 1.65076559e-02]\n"
     ]
    }
   ],
   "source": [
    "mutual_info_score = mutual_info_classif(Xvar_discrete,yvar_discrete, discrete_features=True)\n",
    "print('Mutual Info Classif:\\n', mutual_info_score)"
   ]
  },
  {
   "cell_type": "code",
   "execution_count": 37,
   "metadata": {},
   "outputs": [
    {
     "data": {
      "text/plain": [
       "[('var24', 0.0114474221377149),\n",
       " ('var25', 0.004937722433017641),\n",
       " ('var27', 0.002933514135031845),\n",
       " ('var40', 0.002106326254686662),\n",
       " ('var44', 3.4735936287055846e-07),\n",
       " ('var45', 0.0006995019090175218),\n",
       " ('var46', 0.0005354153064831324),\n",
       " ('var47', 0.00019030127230943263),\n",
       " ('var48', 0.0004193674212723045),\n",
       " ('var49', 7.246232269988995e-05),\n",
       " ('var50', 0.004820530115811829),\n",
       " ('var51', 0.0006285790578521161),\n",
       " ('var52', 0.01136152860532336),\n",
       " ('var53', 0.011688618107500291),\n",
       " ('var54', 0.01650765592247189)]"
      ]
     },
     "execution_count": 37,
     "metadata": {},
     "output_type": "execute_result"
    }
   ],
   "source": [
    "sorted(zip(Xvar_discrete.columns, mutual_info_score))"
   ]
  },
  {
   "cell_type": "code",
   "execution_count": 38,
   "metadata": {},
   "outputs": [],
   "source": [
    "dataset['y'].replace(to_replace=[1, 0], value=['contracted', 'not_contracted'], inplace=True)"
   ]
  },
  {
   "cell_type": "code",
   "execution_count": 39,
   "metadata": {},
   "outputs": [
    {
     "data": {
      "image/png": "[encoded data removed]",
      "text/plain": [
       "<Figure size 432x288 with 1 Axes>"
      ]
     },
     "metadata": {
      "needs_background": "light"
     },
     "output_type": "display_data"
    }
   ],
   "source": [
    "sns.countplot(x='y',data=dataset, color=\"#33adff\")\n",
    "plt.grid(True, axis='y')\n",
    "plt.title(\"The customer contract a new product\")\n",
    "plt.tight_layout()\n",
    "plt.show()"
   ]
  },
  {
   "cell_type": "code",
   "execution_count": 40,
   "metadata": {},
   "outputs": [],
   "source": [
    "dataset['y'].replace(to_replace=['contracted', 'not_contracted'], value=[1, 0], inplace=True)"
   ]
  },
  {
   "cell_type": "code",
   "execution_count": 41,
   "metadata": {},
   "outputs": [],
   "source": [
    "#Define X and y\n",
    "features = ['var22','var24','var25','var27','var40',\n",
    "            'var44','var45','var47','var49','var50',\n",
    "            'var51','var52','var53','var54','var63',\n",
    "            'var64','var65','var66','var67','var68']\n",
    "X = dataset[features]\n",
    "y = dataset.y"
   ]
  },
  {
   "cell_type": "markdown",
   "metadata": {},
   "source": [
    "### Class imbalance is a common problem in the field of classification\n",
    "\n",
    "Imbalanced logistic regression\n",
    "\n",
    "The class imbalance problem are penalizing and weighting the likelihood, but these two parameters not sufficient\n",
    "for handling the class imbalance problem\n",
    "\n",
    "Object to over-sample the minority classes by picking samples at random with replacement. \n",
    "The bootstrap can be generated in a smoothed manner."
   ]
  },
  {
   "cell_type": "code",
   "execution_count": 42,
   "metadata": {},
   "outputs": [],
   "source": [
    "sm = SMOTE(random_state=1234)"
   ]
  },
  {
   "cell_type": "code",
   "execution_count": 43,
   "metadata": {},
   "outputs": [],
   "source": [
    "X, y = sm.fit_resample(X, y)"
   ]
  },
  {
   "cell_type": "code",
   "execution_count": 44,
   "metadata": {},
   "outputs": [
    {
     "data": {
      "text/plain": [
       "1    11273\n",
       "0    11273\n",
       "Name: y, dtype: int64"
      ]
     },
     "execution_count": 44,
     "metadata": {},
     "output_type": "execute_result"
    }
   ],
   "source": [
    "y.value_counts()"
   ]
  },
  {
   "cell_type": "code",
   "execution_count": 45,
   "metadata": {},
   "outputs": [
    {
     "data": {
      "text/plain": [
       "5"
      ]
     },
     "execution_count": 45,
     "metadata": {},
     "output_type": "execute_result"
    }
   ],
   "source": [
    "#Stratified K-Folds Cross-Validation\n",
    "skf = StratifiedKFold(n_splits=5, shuffle=True, random_state=12345)\n",
    "skf.get_n_splits(X, y)"
   ]
  },
  {
   "cell_type": "code",
   "execution_count": 46,
   "metadata": {},
   "outputs": [
    {
     "name": "stdout",
     "output_type": "stream",
     "text": [
      "TRAIN: [    0     1     2 ... 22542 22543 22545] TEST: [    6     7     8 ... 22526 22540 22544]\n",
      "TRAIN: [    3     5     6 ... 22540 22544 22545] TEST: [    0     1     2 ... 22541 22542 22543]\n",
      "TRAIN: [    0     1     2 ... 22542 22543 22544] TEST: [    3    18    19 ... 22532 22535 22545]\n",
      "TRAIN: [    0     1     2 ... 22543 22544 22545] TEST: [    5     9    25 ... 22536 22537 22539]\n",
      "TRAIN: [    0     1     2 ... 22543 22544 22545] TEST: [   10    23    24 ... 22523 22530 22531]\n"
     ]
    }
   ],
   "source": [
    "for train_index, test_index in skf.split(X, y):\n",
    "    print(\"TRAIN:\", train_index, \"TEST:\", test_index)\n",
    "    X_train, X_test = X.loc[train_index], X.loc[test_index]\n",
    "    y_train, y_test = y.loc[train_index], y.loc[test_index]"
   ]
  },
  {
   "cell_type": "code",
   "execution_count": 47,
   "metadata": {},
   "outputs": [
    {
     "name": "stdout",
     "output_type": "stream",
     "text": [
      "LogisticRegression(C=100.0, n_jobs=-1, solver='newton-cg')\n"
     ]
    }
   ],
   "source": [
    "reg = 0.01\n",
    "logistic_regression_model01 = LogisticRegression(C=1/reg, n_jobs=-1, solver='newton-cg').fit(X_train, y_train)\n",
    "print (logistic_regression_model01)"
   ]
  },
  {
   "cell_type": "code",
   "execution_count": 48,
   "metadata": {},
   "outputs": [],
   "source": [
    "y_pred = logistic_regression_model01.predict(X_test)"
   ]
  },
  {
   "cell_type": "code",
   "execution_count": 49,
   "metadata": {},
   "outputs": [
    {
     "name": "stdout",
     "output_type": "stream",
     "text": [
      "Predicted labels:  [1 1 1 0 1 0 1 1 1 0]\n",
      "Actual labels:\n",
      " 10    0\n",
      "23    1\n",
      "24    0\n",
      "31    0\n",
      "34    0\n",
      "35    0\n",
      "38    0\n",
      "45    0\n",
      "49    1\n",
      "57    1\n",
      "Name: y, dtype: int64\n"
     ]
    }
   ],
   "source": [
    "print('Predicted labels: ', y_pred[0:10])\n",
    "print('Actual labels:\\n',y_test[0:10])"
   ]
  },
  {
   "cell_type": "code",
   "execution_count": 50,
   "metadata": {},
   "outputs": [
    {
     "name": "stdout",
     "output_type": "stream",
     "text": [
      "              precision    recall  f1-score   support\n",
      "\n",
      "           0       0.67      0.70      0.69      2255\n",
      "           1       0.69      0.66      0.67      2254\n",
      "\n",
      "    accuracy                           0.68      4509\n",
      "   macro avg       0.68      0.68      0.68      4509\n",
      "weighted avg       0.68      0.68      0.68      4509\n",
      "\n"
     ]
    }
   ],
   "source": [
    "print(classification_report(y_test, y_pred))"
   ]
  },
  {
   "cell_type": "code",
   "execution_count": 51,
   "metadata": {},
   "outputs": [],
   "source": [
    "scaler = StandardScaler()\n",
    "X_train_scaler = scaler.fit_transform(X_train)\n",
    "X_test_scaler = scaler.transform(X_test)"
   ]
  },
  {
   "cell_type": "code",
   "execution_count": 52,
   "metadata": {},
   "outputs": [
    {
     "data": {
      "text/html": [
       "<div>\n",
       "<style scoped>\n",
       "    .dataframe tbody tr th:only-of-type {\n",
       "        vertical-align: middle;\n",
       "    }\n",
       "\n",
       "    .dataframe tbody tr th {\n",
       "        vertical-align: top;\n",
       "    }\n",
       "\n",
       "    .dataframe thead th {\n",
       "        text-align: right;\n",
       "    }\n",
       "</style>\n",
       "<table border=\"1\" class=\"dataframe\">\n",
       "  <thead>\n",
       "    <tr style=\"text-align: right;\">\n",
       "      <th></th>\n",
       "      <th>var22</th>\n",
       "      <th>var24</th>\n",
       "      <th>var25</th>\n",
       "      <th>var27</th>\n",
       "      <th>var40</th>\n",
       "      <th>var44</th>\n",
       "      <th>var45</th>\n",
       "      <th>var47</th>\n",
       "      <th>var49</th>\n",
       "      <th>var50</th>\n",
       "      <th>var51</th>\n",
       "      <th>var52</th>\n",
       "      <th>var53</th>\n",
       "      <th>var54</th>\n",
       "      <th>var63</th>\n",
       "      <th>var64</th>\n",
       "      <th>var65</th>\n",
       "      <th>var66</th>\n",
       "      <th>var67</th>\n",
       "      <th>var68</th>\n",
       "    </tr>\n",
       "  </thead>\n",
       "  <tbody>\n",
       "    <tr>\n",
       "      <th>0</th>\n",
       "      <td>-1.405902</td>\n",
       "      <td>-0.957204</td>\n",
       "      <td>1.426272</td>\n",
       "      <td>-0.692659</td>\n",
       "      <td>0.624351</td>\n",
       "      <td>0.447199</td>\n",
       "      <td>4.398770</td>\n",
       "      <td>4.105161</td>\n",
       "      <td>-0.671716</td>\n",
       "      <td>-0.329346</td>\n",
       "      <td>-0.197327</td>\n",
       "      <td>0.363521</td>\n",
       "      <td>-0.826383</td>\n",
       "      <td>-0.653887</td>\n",
       "      <td>-0.741107</td>\n",
       "      <td>-0.280609</td>\n",
       "      <td>2.496863</td>\n",
       "      <td>2.497008</td>\n",
       "      <td>0.224329</td>\n",
       "      <td>0.039433</td>\n",
       "    </tr>\n",
       "    <tr>\n",
       "      <th>1</th>\n",
       "      <td>0.879758</td>\n",
       "      <td>1.236303</td>\n",
       "      <td>-0.724464</td>\n",
       "      <td>1.443711</td>\n",
       "      <td>0.201458</td>\n",
       "      <td>-2.236142</td>\n",
       "      <td>-0.302966</td>\n",
       "      <td>-0.165750</td>\n",
       "      <td>-0.671716</td>\n",
       "      <td>-0.329346</td>\n",
       "      <td>-0.197327</td>\n",
       "      <td>0.286817</td>\n",
       "      <td>-0.826383</td>\n",
       "      <td>-0.653887</td>\n",
       "      <td>-0.083832</td>\n",
       "      <td>-0.559790</td>\n",
       "      <td>-0.400479</td>\n",
       "      <td>-0.400479</td>\n",
       "      <td>0.224398</td>\n",
       "      <td>0.038585</td>\n",
       "    </tr>\n",
       "    <tr>\n",
       "      <th>2</th>\n",
       "      <td>0.879758</td>\n",
       "      <td>1.236303</td>\n",
       "      <td>-0.724464</td>\n",
       "      <td>-0.692659</td>\n",
       "      <td>-0.644327</td>\n",
       "      <td>0.447199</td>\n",
       "      <td>-0.302966</td>\n",
       "      <td>-0.165750</td>\n",
       "      <td>-0.671716</td>\n",
       "      <td>-0.329346</td>\n",
       "      <td>-0.197327</td>\n",
       "      <td>0.258924</td>\n",
       "      <td>-0.826383</td>\n",
       "      <td>-0.653887</td>\n",
       "      <td>0.878607</td>\n",
       "      <td>-0.605693</td>\n",
       "      <td>-0.400479</td>\n",
       "      <td>-0.400479</td>\n",
       "      <td>0.225500</td>\n",
       "      <td>0.042070</td>\n",
       "    </tr>\n",
       "    <tr>\n",
       "      <th>3</th>\n",
       "      <td>-1.977317</td>\n",
       "      <td>-0.957204</td>\n",
       "      <td>-1.441375</td>\n",
       "      <td>1.443711</td>\n",
       "      <td>0.835798</td>\n",
       "      <td>0.447199</td>\n",
       "      <td>0.872468</td>\n",
       "      <td>-0.165750</td>\n",
       "      <td>1.488724</td>\n",
       "      <td>-0.329346</td>\n",
       "      <td>-0.197327</td>\n",
       "      <td>0.342602</td>\n",
       "      <td>-0.826383</td>\n",
       "      <td>-0.653887</td>\n",
       "      <td>0.742457</td>\n",
       "      <td>-0.302432</td>\n",
       "      <td>2.497182</td>\n",
       "      <td>2.496996</td>\n",
       "      <td>0.224398</td>\n",
       "      <td>0.039244</td>\n",
       "    </tr>\n",
       "    <tr>\n",
       "      <th>4</th>\n",
       "      <td>-0.834487</td>\n",
       "      <td>1.236303</td>\n",
       "      <td>-0.724464</td>\n",
       "      <td>1.443711</td>\n",
       "      <td>-0.221434</td>\n",
       "      <td>0.447199</td>\n",
       "      <td>-0.302966</td>\n",
       "      <td>-0.165750</td>\n",
       "      <td>1.488724</td>\n",
       "      <td>-0.329346</td>\n",
       "      <td>-0.197327</td>\n",
       "      <td>0.283330</td>\n",
       "      <td>-0.826383</td>\n",
       "      <td>-0.653887</td>\n",
       "      <td>0.531190</td>\n",
       "      <td>-0.476262</td>\n",
       "      <td>-0.400479</td>\n",
       "      <td>-0.400479</td>\n",
       "      <td>0.225845</td>\n",
       "      <td>0.039244</td>\n",
       "    </tr>\n",
       "  </tbody>\n",
       "</table>\n",
       "</div>"
      ],
      "text/plain": [
       "      var22     var24     var25     var27     var40     var44     var45  \\\n",
       "0 -1.405902 -0.957204  1.426272 -0.692659  0.624351  0.447199  4.398770   \n",
       "1  0.879758  1.236303 -0.724464  1.443711  0.201458 -2.236142 -0.302966   \n",
       "2  0.879758  1.236303 -0.724464 -0.692659 -0.644327  0.447199 -0.302966   \n",
       "3 -1.977317 -0.957204 -1.441375  1.443711  0.835798  0.447199  0.872468   \n",
       "4 -0.834487  1.236303 -0.724464  1.443711 -0.221434  0.447199 -0.302966   \n",
       "\n",
       "      var47     var49     var50     var51     var52     var53     var54  \\\n",
       "0  4.105161 -0.671716 -0.329346 -0.197327  0.363521 -0.826383 -0.653887   \n",
       "1 -0.165750 -0.671716 -0.329346 -0.197327  0.286817 -0.826383 -0.653887   \n",
       "2 -0.165750 -0.671716 -0.329346 -0.197327  0.258924 -0.826383 -0.653887   \n",
       "3 -0.165750  1.488724 -0.329346 -0.197327  0.342602 -0.826383 -0.653887   \n",
       "4 -0.165750  1.488724 -0.329346 -0.197327  0.283330 -0.826383 -0.653887   \n",
       "\n",
       "      var63     var64     var65     var66     var67     var68  \n",
       "0 -0.741107 -0.280609  2.496863  2.497008  0.224329  0.039433  \n",
       "1 -0.083832 -0.559790 -0.400479 -0.400479  0.224398  0.038585  \n",
       "2  0.878607 -0.605693 -0.400479 -0.400479  0.225500  0.042070  \n",
       "3  0.742457 -0.302432  2.497182  2.496996  0.224398  0.039244  \n",
       "4  0.531190 -0.476262 -0.400479 -0.400479  0.225845  0.039244  "
      ]
     },
     "execution_count": 52,
     "metadata": {},
     "output_type": "execute_result"
    }
   ],
   "source": [
    "X_train_scaler = pd.DataFrame(X_train_scaler, columns=X_train.columns)\n",
    "X_train_scaler.head()"
   ]
  },
  {
   "cell_type": "code",
   "execution_count": 53,
   "metadata": {},
   "outputs": [
    {
     "data": {
      "text/html": [
       "<div>\n",
       "<style scoped>\n",
       "    .dataframe tbody tr th:only-of-type {\n",
       "        vertical-align: middle;\n",
       "    }\n",
       "\n",
       "    .dataframe tbody tr th {\n",
       "        vertical-align: top;\n",
       "    }\n",
       "\n",
       "    .dataframe thead th {\n",
       "        text-align: right;\n",
       "    }\n",
       "</style>\n",
       "<table border=\"1\" class=\"dataframe\">\n",
       "  <thead>\n",
       "    <tr style=\"text-align: right;\">\n",
       "      <th></th>\n",
       "      <th>var22</th>\n",
       "      <th>var24</th>\n",
       "      <th>var25</th>\n",
       "      <th>var27</th>\n",
       "      <th>var40</th>\n",
       "      <th>var44</th>\n",
       "      <th>var45</th>\n",
       "      <th>var47</th>\n",
       "      <th>var49</th>\n",
       "      <th>var50</th>\n",
       "      <th>var51</th>\n",
       "      <th>var52</th>\n",
       "      <th>var53</th>\n",
       "      <th>var54</th>\n",
       "      <th>var63</th>\n",
       "      <th>var64</th>\n",
       "      <th>var65</th>\n",
       "      <th>var66</th>\n",
       "      <th>var67</th>\n",
       "      <th>var68</th>\n",
       "    </tr>\n",
       "  </thead>\n",
       "  <tbody>\n",
       "    <tr>\n",
       "      <th>4504</th>\n",
       "      <td>0.879758</td>\n",
       "      <td>-0.957204</td>\n",
       "      <td>-0.724464</td>\n",
       "      <td>-0.692659</td>\n",
       "      <td>-1.278666</td>\n",
       "      <td>-2.236142</td>\n",
       "      <td>-0.302966</td>\n",
       "      <td>-0.16575</td>\n",
       "      <td>-0.671716</td>\n",
       "      <td>-0.329346</td>\n",
       "      <td>-0.197327</td>\n",
       "      <td>0.265897</td>\n",
       "      <td>-0.826383</td>\n",
       "      <td>-0.653887</td>\n",
       "      <td>-3.676136</td>\n",
       "      <td>-0.992051</td>\n",
       "      <td>-0.400479</td>\n",
       "      <td>-0.400479</td>\n",
       "      <td>0.224261</td>\n",
       "      <td>0.040097</td>\n",
       "    </tr>\n",
       "    <tr>\n",
       "      <th>4505</th>\n",
       "      <td>-0.263072</td>\n",
       "      <td>-0.957204</td>\n",
       "      <td>-1.441375</td>\n",
       "      <td>-0.692659</td>\n",
       "      <td>-0.009988</td>\n",
       "      <td>0.447199</td>\n",
       "      <td>-0.302966</td>\n",
       "      <td>-0.16575</td>\n",
       "      <td>1.488724</td>\n",
       "      <td>-0.329346</td>\n",
       "      <td>-0.197327</td>\n",
       "      <td>0.255438</td>\n",
       "      <td>-0.826383</td>\n",
       "      <td>-0.653887</td>\n",
       "      <td>0.437537</td>\n",
       "      <td>-0.110045</td>\n",
       "      <td>-0.400479</td>\n",
       "      <td>-0.400479</td>\n",
       "      <td>0.223974</td>\n",
       "      <td>0.042839</td>\n",
       "    </tr>\n",
       "    <tr>\n",
       "      <th>4506</th>\n",
       "      <td>0.879758</td>\n",
       "      <td>1.236303</td>\n",
       "      <td>-0.724464</td>\n",
       "      <td>1.443711</td>\n",
       "      <td>-0.855774</td>\n",
       "      <td>0.447199</td>\n",
       "      <td>-0.302966</td>\n",
       "      <td>-0.16575</td>\n",
       "      <td>-0.671716</td>\n",
       "      <td>-0.329346</td>\n",
       "      <td>-0.197327</td>\n",
       "      <td>0.231032</td>\n",
       "      <td>0.585521</td>\n",
       "      <td>0.824819</td>\n",
       "      <td>-3.137557</td>\n",
       "      <td>-0.208059</td>\n",
       "      <td>-0.400479</td>\n",
       "      <td>-0.400479</td>\n",
       "      <td>0.224849</td>\n",
       "      <td>0.036901</td>\n",
       "    </tr>\n",
       "    <tr>\n",
       "      <th>4507</th>\n",
       "      <td>0.308343</td>\n",
       "      <td>-0.957204</td>\n",
       "      <td>-0.724464</td>\n",
       "      <td>-0.692659</td>\n",
       "      <td>0.201458</td>\n",
       "      <td>-2.236142</td>\n",
       "      <td>-0.302966</td>\n",
       "      <td>-0.16575</td>\n",
       "      <td>-0.671716</td>\n",
       "      <td>-0.329346</td>\n",
       "      <td>-0.197327</td>\n",
       "      <td>0.297276</td>\n",
       "      <td>-0.826383</td>\n",
       "      <td>-0.653887</td>\n",
       "      <td>0.664590</td>\n",
       "      <td>0.032788</td>\n",
       "      <td>-0.400479</td>\n",
       "      <td>-0.400479</td>\n",
       "      <td>0.225527</td>\n",
       "      <td>0.040482</td>\n",
       "    </tr>\n",
       "    <tr>\n",
       "      <th>4508</th>\n",
       "      <td>-0.263072</td>\n",
       "      <td>1.236303</td>\n",
       "      <td>-1.441375</td>\n",
       "      <td>-0.692659</td>\n",
       "      <td>-0.855774</td>\n",
       "      <td>0.447199</td>\n",
       "      <td>-0.302966</td>\n",
       "      <td>-0.16575</td>\n",
       "      <td>-0.671716</td>\n",
       "      <td>-0.329346</td>\n",
       "      <td>-0.197327</td>\n",
       "      <td>0.283330</td>\n",
       "      <td>-0.826383</td>\n",
       "      <td>-0.653887</td>\n",
       "      <td>0.402270</td>\n",
       "      <td>0.031082</td>\n",
       "      <td>-0.400479</td>\n",
       "      <td>-0.400479</td>\n",
       "      <td>-4.456291</td>\n",
       "      <td>0.040840</td>\n",
       "    </tr>\n",
       "  </tbody>\n",
       "</table>\n",
       "</div>"
      ],
      "text/plain": [
       "         var22     var24     var25     var27     var40     var44     var45  \\\n",
       "4504  0.879758 -0.957204 -0.724464 -0.692659 -1.278666 -2.236142 -0.302966   \n",
       "4505 -0.263072 -0.957204 -1.441375 -0.692659 -0.009988  0.447199 -0.302966   \n",
       "4506  0.879758  1.236303 -0.724464  1.443711 -0.855774  0.447199 -0.302966   \n",
       "4507  0.308343 -0.957204 -0.724464 -0.692659  0.201458 -2.236142 -0.302966   \n",
       "4508 -0.263072  1.236303 -1.441375 -0.692659 -0.855774  0.447199 -0.302966   \n",
       "\n",
       "        var47     var49     var50     var51     var52     var53     var54  \\\n",
       "4504 -0.16575 -0.671716 -0.329346 -0.197327  0.265897 -0.826383 -0.653887   \n",
       "4505 -0.16575  1.488724 -0.329346 -0.197327  0.255438 -0.826383 -0.653887   \n",
       "4506 -0.16575 -0.671716 -0.329346 -0.197327  0.231032  0.585521  0.824819   \n",
       "4507 -0.16575 -0.671716 -0.329346 -0.197327  0.297276 -0.826383 -0.653887   \n",
       "4508 -0.16575 -0.671716 -0.329346 -0.197327  0.283330 -0.826383 -0.653887   \n",
       "\n",
       "         var63     var64     var65     var66     var67     var68  \n",
       "4504 -3.676136 -0.992051 -0.400479 -0.400479  0.224261  0.040097  \n",
       "4505  0.437537 -0.110045 -0.400479 -0.400479  0.223974  0.042839  \n",
       "4506 -3.137557 -0.208059 -0.400479 -0.400479  0.224849  0.036901  \n",
       "4507  0.664590  0.032788 -0.400479 -0.400479  0.225527  0.040482  \n",
       "4508  0.402270  0.031082 -0.400479 -0.400479 -4.456291  0.040840  "
      ]
     },
     "execution_count": 53,
     "metadata": {},
     "output_type": "execute_result"
    }
   ],
   "source": [
    "X_test_scaler = pd.DataFrame(X_test_scaler, columns=X_test.columns)\n",
    "X_test_scaler.tail()"
   ]
  },
  {
   "cell_type": "code",
   "execution_count": 54,
   "metadata": {},
   "outputs": [
    {
     "name": "stdout",
     "output_type": "stream",
     "text": [
      "LogisticRegression(C=100.0, n_jobs=-1)\n"
     ]
    }
   ],
   "source": [
    "logistic_regression_model02 = LogisticRegression(C=1/reg, n_jobs=-1).fit(X_train_scaler, y_train)\n",
    "print (logistic_regression_model02)"
   ]
  },
  {
   "cell_type": "code",
   "execution_count": 55,
   "metadata": {},
   "outputs": [
    {
     "name": "stdout",
     "output_type": "stream",
     "text": [
      "Predicted labels:  [1 1 1 0 1 0 1 1 1 0]\n",
      "Actual labels:\n",
      " 10    0\n",
      "23    1\n",
      "24    0\n",
      "31    0\n",
      "34    0\n",
      "35    0\n",
      "38    0\n",
      "45    0\n",
      "49    1\n",
      "57    1\n",
      "Name: y, dtype: int64\n"
     ]
    }
   ],
   "source": [
    "predictions = logistic_regression_model02.predict(X_test_scaler)\n",
    "print('Predicted labels: ', predictions[0:10])\n",
    "print('Actual labels:\\n',y_test[0:10])"
   ]
  },
  {
   "cell_type": "code",
   "execution_count": 56,
   "metadata": {},
   "outputs": [
    {
     "name": "stdout",
     "output_type": "stream",
     "text": [
      "              precision    recall  f1-score   support\n",
      "\n",
      "           0       0.67      0.70      0.69      2255\n",
      "           1       0.69      0.66      0.67      2254\n",
      "\n",
      "    accuracy                           0.68      4509\n",
      "   macro avg       0.68      0.68      0.68      4509\n",
      "weighted avg       0.68      0.68      0.68      4509\n",
      "\n"
     ]
    }
   ],
   "source": [
    "print(classification_report(y_test, predictions))"
   ]
  },
  {
   "cell_type": "code",
   "execution_count": 57,
   "metadata": {},
   "outputs": [
    {
     "data": {
      "text/plain": [
       "array([[1588,  667],\n",
       "       [ 775, 1479]])"
      ]
     },
     "execution_count": 57,
     "metadata": {},
     "output_type": "execute_result"
    }
   ],
   "source": [
    "conf_matrix = confusion_matrix(y_test, predictions)\n",
    "conf_matrix"
   ]
  },
  {
   "cell_type": "code",
   "execution_count": 58,
   "metadata": {},
   "outputs": [
    {
     "data": {
      "image/png": "[encoded data removed]",
      "text/plain": [
       "<Figure size 432x288 with 2 Axes>"
      ]
     },
     "metadata": {
      "needs_background": "light"
     },
     "output_type": "display_data"
    }
   ],
   "source": [
    "class_names=[0,1] \n",
    "fig, ax = plt.subplots()\n",
    "tick_marks = np.arange(len(class_names))\n",
    "plt.xticks(tick_marks, class_names)\n",
    "plt.yticks(tick_marks, class_names)\n",
    "sns.heatmap(pd.DataFrame(conf_matrix), annot=True, cmap=\"Blues\" ,fmt='g')\n",
    "ax.xaxis.set_label_position(\"top\")\n",
    "plt.title('Confusion matrix', y=1.1)\n",
    "plt.ylabel('True label')\n",
    "plt.xlabel('Predicted label')\n",
    "plt.tight_layout()\n",
    "plt.show()"
   ]
  },
  {
   "cell_type": "code",
   "execution_count": 59,
   "metadata": {},
   "outputs": [
    {
     "name": "stdout",
     "output_type": "stream",
     "text": [
      "[[0.47145357 0.52854643]\n",
      " [0.1319766  0.8680234 ]\n",
      " [0.34909969 0.65090031]\n",
      " ...\n",
      " [0.75359265 0.24640735]\n",
      " [0.1132764  0.8867236 ]\n",
      " [0.21914158 0.78085842]]\n"
     ]
    }
   ],
   "source": [
    "y_scores = logistic_regression_model02.predict_proba(X_test_scaler)\n",
    "print(y_scores)"
   ]
  },
  {
   "cell_type": "code",
   "execution_count": 60,
   "metadata": {},
   "outputs": [
    {
     "data": {
      "image/png": "[encoded data removed]",
      "text/plain": [
       "<Figure size 432x432 with 1 Axes>"
      ]
     },
     "metadata": {
      "needs_background": "light"
     },
     "output_type": "display_data"
    }
   ],
   "source": [
    "fpr, tpr, thresholds = roc_curve(y_test, y_scores[:,1])\n",
    "fig = plt.figure(figsize=(6, 6))\n",
    "plt.plot([0.0, 1.0], [0.0, 1.0], 'k--')\n",
    "plt.plot(fpr, tpr)\n",
    "plt.xlabel('False Positive Rate')\n",
    "plt.ylabel('True Positive Rate')\n",
    "plt.title('ROC Curve')\n",
    "plt.show()"
   ]
  },
  {
   "cell_type": "code",
   "execution_count": 61,
   "metadata": {},
   "outputs": [
    {
     "name": "stdout",
     "output_type": "stream",
     "text": [
      "AUC: 0.7386562838767051\n"
     ]
    }
   ],
   "source": [
    "auc = roc_auc_score(y_test,y_scores[:,1])\n",
    "print('AUC: ' + str(auc))"
   ]
  },
  {
   "cell_type": "markdown",
   "metadata": {},
   "source": [
    "Well-Calibrated Probabilities\n",
    "\n",
    "The classfication model is used to predict the probability of customer contract a new product.\n",
    "It is desirable that the estimated class probabilities are reflective of the true underlying probability of \n",
    "the sample.\n",
    "\n",
    "That is, the predicted class probability needs to be well-calibrated.To be well-calibrated, the probabilities must effectively reflect the true likelihood of the event of interest."
   ]
  },
  {
   "cell_type": "code",
   "execution_count": 62,
   "metadata": {},
   "outputs": [],
   "source": [
    "# Creating classifiers\n",
    "logistic_regression_model04 = LogisticRegression(C=1/reg, n_jobs=-1,solver='newton-cg')\n",
    "svm_model = svm.SVC(C=1.0,probability=True)\n",
    "rfc_model = RandomForestClassifier()\n",
    "\n",
    "models_list= [\n",
    "    (logistic_regression_model04, \"Logistic\"),\n",
    "    (svm_model, \"SVC\"),\n",
    "    (rfc_model, \"Random forest\")\n",
    "]"
   ]
  },
  {
   "cell_type": "code",
   "execution_count": 63,
   "metadata": {},
   "outputs": [
    {
     "data": {
      "image/png": "[encoded data removed]",
      "text/plain": [
       "<Figure size 720x720 with 4 Axes>"
      ]
     },
     "metadata": {
      "needs_background": "light"
     },
     "output_type": "display_data"
    }
   ],
   "source": [
    "fig = plt.figure(figsize=(10, 10))\n",
    "gs = GridSpec(4, 2)\n",
    "colors = plt.cm.get_cmap(\"Dark2\")\n",
    "\n",
    "ax_calibration_curve = fig.add_subplot(gs[:2, :2])\n",
    "calibration_displays = {}\n",
    "for i, (clf, name) in enumerate(models_list):\n",
    "    clf.fit(X_train, y_train)\n",
    "    display = CalibrationDisplay.from_estimator(\n",
    "        clf,\n",
    "        X_test,\n",
    "        y_test,\n",
    "        n_bins=10,\n",
    "        name=name,\n",
    "        ax=ax_calibration_curve,\n",
    "        color=colors(i),\n",
    "    )\n",
    "    calibration_displays[name] = display\n",
    "\n",
    "ax_calibration_curve.grid()\n",
    "ax_calibration_curve.set_title(\"Calibration plots\")\n",
    "\n",
    "# Add histogram\n",
    "grid_positions = [(2, 0), (2, 1), (3, 0)]\n",
    "for i, (_, name) in enumerate(models_list):\n",
    "    row, col = grid_positions[i]\n",
    "    ax = fig.add_subplot(gs[row, col])\n",
    "\n",
    "    ax.hist(\n",
    "        calibration_displays[name].y_prob,\n",
    "        range=(0, 1),\n",
    "        bins=10,\n",
    "        label=name,\n",
    "        color=colors(i),\n",
    "    )\n",
    "    ax.set(title=name, xlabel=\"Mean predicted probability\", ylabel=\"Count\")\n",
    "\n",
    "plt.tight_layout()\n",
    "plt.show()"
   ]
  },
  {
   "cell_type": "markdown",
   "metadata": {},
   "source": [
    "References\n",
    "\n",
    "https://scikit-learn.org/stable/modules/generated/sklearn.linear_model.LogisticRegressionCV.html\n",
    "\n",
    "https://imbalanced-learn.org/dev/references/generated/imblearn.over_sampling.RandomOverSampler.html\n",
    "\n",
    "https://scikit-learn.org/stable/auto_examples/calibration/plot_compare_calibration.html#sphx-glr-auto-examples-calibration-plot-compare-calibration-py\n"
   ]
  }
 ],
 "metadata": {
  "interpreter": {
   "hash": "b66d6a3c30dee9defb9f903e1fbee8c34acb6aded7a3588353db1458f0dd18dc"
  },
  "kernelspec": {
   "display_name": "Python 3.8.10 64-bit ('.venv': venv)",
   "name": "python3"
  },
  "language_info": {
   "codemirror_mode": {
    "name": "ipython",
    "version": 3
   },
   "file_extension": ".py",
   "mimetype": "text/x-python",
   "name": "python",
   "nbconvert_exporter": "python",
   "pygments_lexer": "ipython3",
   "version": "3.8.10"
  },
  "orig_nbformat": 4
 },
 "nbformat": 4,
 "nbformat_minor": 2
}
